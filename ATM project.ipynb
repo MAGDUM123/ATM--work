{
 "cells": [
  {
   "cell_type": "code",
   "execution_count": 4,
   "id": "02e236ff-ef1e-4d7c-8cd3-d0f6cd26df0a",
   "metadata": {},
   "outputs": [
    {
     "name": "stderr",
     "output_type": "stream",
     "text": [
      "<>:3: SyntaxWarning: invalid escape sequence '\\ '\n",
      "<>:3: SyntaxWarning: invalid escape sequence '\\ '\n",
      "C:\\Users\\magdu\\AppData\\Local\\Temp\\ipykernel_636\\3620447329.py:3: SyntaxWarning: invalid escape sequence '\\ '\n",
      "  banner = \"\"\"\n"
     ]
    },
    {
     "name": "stdout",
     "output_type": "stream",
     "text": [
      "\n",
      "__        _______ _     ____ ___  __  __ _____   _____ ___        _  _____ __  __\n",
      "\\ \\      / / ____| |   / ___/ _ \\|  \\/  | ____| |_   _/ _ \\      / \\|_   _|  \\/  |         \n",
      " \\ \\ /\\ / /|  _| | |  | |  | | | | |\\/| |  _|     | || | | |    / _ \\ | | | |\\/| | \n",
      "  \\ V  V / | |___| |__| |__| |_| | |  | | |___    | || |_| |   / ___ \\| | | |  | |   \n",
      "   \\_/\\_/__|_____|_____\\____\\___/|_|  |_|_____|   |_| \\___/   /_/   \\_\\_| |_|  |_|    \n",
      "  \n",
      "welcme to ATM transaction\n",
      "insert your card properly\n"
     ]
    },
    {
     "name": "stdin",
     "output_type": "stream",
     "text": [
      "click on enter button \n"
     ]
    },
    {
     "name": "stdout",
     "output_type": "stream",
     "text": [
      "\n",
      "\n",
      "select your language \n",
      " 1.TELUGU \n",
      " 2.ENGLISH. \n",
      " 3.HINDI\n"
     ]
    },
    {
     "name": "stdin",
     "output_type": "stream",
     "text": [
      "select you language 3\n",
      "अपना पिन नंबर दर्ज करें 5432\n"
     ]
    },
    {
     "name": "stdout",
     "output_type": "stream",
     "text": [
      "\n",
      "\n",
      "अपना खाता प्रकार चुनें \n",
      " A.चालू खाता \n",
      " B.बचत खाता\n"
     ]
    },
    {
     "name": "stdin",
     "output_type": "stream",
     "text": [
      "\n",
      "\n",
      "A (या) B चुनें B\n"
     ]
    },
    {
     "name": "stdout",
     "output_type": "stream",
     "text": [
      "1.बैलेंस पूछताछ \n",
      "2.निकासी\n"
     ]
    },
    {
     "name": "stdin",
     "output_type": "stream",
     "text": [
      "\n",
      "\n",
      "1 (या) 2 चुनें 2\n"
     ]
    },
    {
     "name": "stdout",
     "output_type": "stream",
     "text": [
      "राशि डालें\n"
     ]
    },
    {
     "name": "stdin",
     "output_type": "stream",
     "text": [
      "अम्मोन्ट दर्ज करें उदाहरणार्थ:500 3222\n"
     ]
    },
    {
     "name": "stdout",
     "output_type": "stream",
     "text": [
      "अवैध अम्मोन्ट\n"
     ]
    }
   ],
   "source": [
    "#write a python program to withdraw the money using pin number\n",
    "import random\n",
    "banner = \"\"\"\n",
    "__        _______ _     ____ ___  __  __ _____   _____ ___        _  _____ __  __\n",
    "\\ \\      / / ____| |   / ___/ _ \\|  \\/  | ____| |_   _/ _ \\      / \\|_   _|  \\/  |         \n",
    " \\ \\ /\\ / /|  _| | |  | |  | | | | |\\/| |  _|     | || | | |    / _ \\ | | | |\\/| | \n",
    "  \\ V  V / | |___| |__| |__| |_| | |  | | |___    | || |_| |   / ___ \\| | | |  | |   \n",
    "   \\_/\\_/__|_____|_____\\____\\___/|_|  |_|_____|   |_| \\___/   /_/   \\_\\_| |_|  |_|    \n",
    "  \"\"\"\n",
    "                               \n",
    "                                         \n",
    "                                     \n",
    "                                    \n",
    "\n",
    "\n",
    "print(banner)\n",
    "\n",
    "print(\"welcme to ATM transaction\")\n",
    "print(\"insert your card properly\")\n",
    "a = input(\"click on enter button\").upper()\n",
    "\n",
    "b = \"1.TELUGU \\n 2.ENGLISH. \\n 3.HINDI\"\n",
    "print(\"\\n\\nselect your language \\n\",b)\n",
    "\n",
    "c = int(input(\"select you language\"))\n",
    "\n",
    "if c ==2:\n",
    "    d = int(input(\"enter your pin number\"))\n",
    "    if d == 5432:\n",
    "        print(\"\\n\\nselect your account type \\n A.current Account \\n B.savings account\")\n",
    "        e = input(\"\\n\\nselect A (or) B\")\n",
    "        if e == \"A\" or \"B\":\n",
    "            f = \"1.Balence enquiry \\n2.withdrawal\"\n",
    "            print(f)\n",
    "            mm = int(input(\"\\n\\nselect 1 (or) 2\"))\n",
    "        if mm == 1:\n",
    "            print(\"your balance = ₹10,000\")\n",
    "        elif mm == 2:\n",
    "            print(\"enter ammount\")\n",
    "            g= int(input(\"enter amount Ex:500\"))\n",
    "            \n",
    "            if g % 100 == 0:\n",
    "                print(\"collect your Ammont =\",\"₹\",g )\n",
    "            else:\n",
    "                print(\"invlid ammount\")\n",
    "      \n",
    "        else:\n",
    "            print(\" invalid option\")\n",
    "            \n",
    "            \n",
    "    else:\n",
    "        print(\"invalid pin number\")\n",
    "\n",
    "#for telugu language\n",
    "elif c ==1:\n",
    "    d = int(input(\"మీ పిన్ నంబర్‌ను నమోదు చేయండి\"))\n",
    "    if d == 5432:\n",
    "        print(\"\\n\\nమీ ఖాతా రకాన్ని ఎంచుకోండి \\n A.వాడుక ఖాతా \\n B.పొదుపు ఖాతా\")\n",
    "        e = input(\"\\n\\nA (లేదా) B ఎంచుకోండి\")\n",
    "        if e == \"A\" or \"B\":\n",
    "            f = \"1.బ్యాలెన్స్ విచారణ \\n2.ఉపసంహరణ\"\n",
    "            print(f)\n",
    "            mm = int(input(\"\\n\\n1 (లేదా) 2 ఎంచుకోండి\"))\n",
    "        if mm == 1:\n",
    "            print(\"మీ బ్యాలెన్స్ = ₹10,000\")\n",
    "        elif mm == 2:\n",
    "            print(\"మొత్తాన్ని నమోదు చేయండి\")\n",
    "            g= int(input(\"ఉదా: 500 అమ్మోంట్ నమోదు చేయండి\"))\n",
    "            \n",
    "            if g % 100 == 0:\n",
    "                print(\"మీ అమ్మోంట్ సేకరించండి =\",\"₹\",g )\n",
    "            else:\n",
    "                print(\"చెల్లని మొత్తం\")\n",
    "      \n",
    "        else:\n",
    "            print(\"చెల్లని ఎంపిక\")\n",
    "            \n",
    "            \n",
    "    else:\n",
    "        print(\"చెల్లని పిన్ నంబర్\")\n",
    "\n",
    "\n",
    "#hindi language\n",
    "elif c ==3:\n",
    "    d = int(input(\"अपना पिन नंबर दर्ज करें\"))\n",
    "    if d == 5432:\n",
    "        print(\"\\n\\nअपना खाता प्रकार चुनें \\n A.चालू खाता \\n B.बचत खाता\")\n",
    "        e = input(\"\\n\\nA (या) B चुनें\")\n",
    "        if e == \"A\" or \"B\":\n",
    "            f = \"1.बैलेंस पूछताछ \\n2.निकासी\"\n",
    "            print(f)\n",
    "            mm = int(input(\"\\n\\n1 (या) 2 चुनें\"))\n",
    "        if mm == 1:\n",
    "            print(\"आपका बैलेंस = ₹10,000\")\n",
    "        elif mm == 2:\n",
    "            print(\"राशि डालें\")\n",
    "            g= int(input(\"अम्मोन्ट दर्ज करें उदाहरणार्थ:500\"))\n",
    "            \n",
    "            if g % 100 == 0:\n",
    "                print(\"अपना अम्मोन्ट एकत्र करें =\",\"₹\",g )\n",
    "            else:\n",
    "                print(\"अवैध अम्मोन्ट\")\n",
    "      \n",
    "        else:\n",
    "            print(\" अमान्य विकल्प\")\n",
    "            \n",
    "            \n",
    "    else:\n",
    "        print(\"अमान्य पिन नंबर\")\n",
    "else:\n",
    "    print(\"invalid option\")\n",
    "    print(\"చెల్లని ఎంపిక\")\n",
    "    print(\"अमान्य विकल्प\")\n",
    "    \n"
   ]
  },
  {
   "cell_type": "markdown",
   "id": "ac669ff4-7fc8-436d-90c9-c71fdcf6c9fe",
   "metadata": {},
   "source": [
    "# def find_largest_element(lst):\n",
    "    if not lst:\n",
    "        return None  # Return None if the list is empty\n",
    "\n",
    "    largest = lst[0]  # Assume the first element is the largest\n",
    "\n",
    "    # Iterate through the list starting from the second element\n",
    "    for num in lst[1:]:\n",
    "        if num > largest:\n",
    "            largest = num  # Update the largest element if a larger element is found\n",
    "\n",
    "    return largest\n",
    "\n",
    "# Example usage:\n",
    "my_list = [10, 5, 20, 8, 25]\n",
    "largest_element = find_largest_element(my_list)\n",
    "print(\"The largest element in the list is:\", largest_element)\n"
   ]
  },
  {
   "cell_type": "code",
   "execution_count": null,
   "id": "4670327f-deb3-4476-bd0d-6db38c356f9a",
   "metadata": {},
   "outputs": [],
   "source": []
  }
 ],
 "metadata": {
  "kernelspec": {
   "display_name": "Python 3 (ipykernel)",
   "language": "python",
   "name": "python3"
  },
  "language_info": {
   "codemirror_mode": {
    "name": "ipython",
    "version": 3
   },
   "file_extension": ".py",
   "mimetype": "text/x-python",
   "name": "python",
   "nbconvert_exporter": "python",
   "pygments_lexer": "ipython3",
   "version": "3.12.0"
  }
 },
 "nbformat": 4,
 "nbformat_minor": 5
}
